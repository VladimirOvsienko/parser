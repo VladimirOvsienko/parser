{
 "metadata": {
  "language_info": {
   "codemirror_mode": {
    "name": "ipython",
    "version": 3
   },
   "file_extension": ".py",
   "mimetype": "text/x-python",
   "name": "python",
   "nbconvert_exporter": "python",
   "pygments_lexer": "ipython3",
   "version": "3.8.5-final"
  },
  "orig_nbformat": 2,
  "kernelspec": {
   "name": "Python 3.8.5 64-bit",
   "display_name": "Python 3.8.5 64-bit",
   "metadata": {
    "interpreter": {
     "hash": "31f2aee4e71d21fbe5cf8b01ff0e069b9275f58929596ceb00d14d90e3e16cd6"
    }
   }
  }
 },
 "nbformat": 4,
 "nbformat_minor": 2,
 "cells": [
  {
   "cell_type": "code",
   "execution_count": 13,
   "metadata": {},
   "outputs": [],
   "source": [
    "import requests\n",
    "from bs4 import BeautifulSoup\n",
    "import csv"
   ]
  },
  {
   "cell_type": "code",
   "execution_count": 14,
   "metadata": {},
   "outputs": [],
   "source": [
    "CSV = 'news_bitcoin.csv'\n",
    "URL = 'https://news.bitcoin.com/'\n",
    "HEADERS ={'accept': 'text/html,application/xhtml+xml,application/xml;q=0.9,image/avif,image/webp,image/apng,*/*;q=0.8,application/signed-exchange;v=b3;q=0.9', 'user-agent': 'Mozilla/5.0 (X11; Linux x86_64) AppleWebKit/537.36 (KHTML, like Gecko) Chrome/86.0.4240.111 Safari/537.36'}"
   ]
  },
  {
   "cell_type": "code",
   "execution_count": 15,
   "metadata": {},
   "outputs": [],
   "source": [
    "def get_html(url, params=None):\n",
    "    r = requests.get(url, headers=HEADERS, params=params)\n",
    "    return r"
   ]
  },
  {
   "cell_type": "code",
   "execution_count": 16,
   "metadata": {},
   "outputs": [
    {
     "output_type": "execute_result",
     "data": {
      "text/plain": [
       "<Response [200]>"
      ]
     },
     "metadata": {},
     "execution_count": 16
    }
   ],
   "source": [
    "get_html(URL)"
   ]
  },
  {
   "cell_type": "code",
   "execution_count": 29,
   "metadata": {},
   "outputs": [],
   "source": [
    "def get_content(html):\n",
    "    soup = BeautifulSoup(html, 'html.parser')\n",
    "    items = soup.find_all('div', class_='story story--medium')\n",
    "    # footer = str(soup.find('div', class_='story__footer'))\n",
    "    news = []\n",
    "    \n",
    "    for item in items:\n",
    "        news.append(\n",
    "            {\n",
    "                'title':item.find('h6', class_ = 'story__title story--medium__title').get_text(strip=True),\n",
    "                'link_product': item.find('div', class_ = 'story--medium__info').find('a').get('href') \n",
    "            }\n",
    "        )\n",
    "    return news    "
   ]
  },
  {
   "cell_type": "code",
   "execution_count": 31,
   "metadata": {},
   "outputs": [],
   "source": [
    "def save_doc(items, path):\n",
    "    with open (path, 'w', newline='') as file:\n",
    "        writer = csv.writer(file, delimiter=';')\n",
    "        writer.writerow(['Тема новостей', 'Ссылка на прподукт'])\n",
    "        for item in items:\n",
    "            writer.writerow([item['title'], item['link_product']])    "
   ]
  },
  {
   "cell_type": "code",
   "execution_count": 32,
   "metadata": {},
   "outputs": [],
   "source": [
    "def parser():\n",
    "    PAGENATION = input('Укажите количество строаниц для парсинга:')\n",
    "    PAGENATION = int(PAGENATION.strip())\n",
    "    html = get_html(URL)\n",
    "    if html.status_code == 200:\n",
    "        news = []\n",
    "        for page in range (1, PAGENATION):\n",
    "            print(f'Парсим страницу: {page}')\n",
    "            html = get_html(URL, params={'page':page})\n",
    "            news.extend(get_content(html.text))\n",
    "            save_doc(news, CSV)\n",
    "        pass\n",
    "    else:\n",
    "        print('Error')"
   ]
  },
  {
   "cell_type": "code",
   "execution_count": 33,
   "metadata": {},
   "outputs": [
    {
     "output_type": "stream",
     "name": "stdout",
     "text": [
      "Парсим страницу: 1\n",
      "Парсим страницу: 2\n",
      "Парсим страницу: 3\n",
      "Парсим страницу: 4\n",
      "Парсим страницу: 5\n",
      "Парсим страницу: 6\n",
      "Парсим страницу: 7\n",
      "Парсим страницу: 8\n",
      "Парсим страницу: 9\n",
      "Парсим страницу: 10\n",
      "Парсим страницу: 11\n",
      "Парсим страницу: 12\n",
      "Парсим страницу: 13\n",
      "Парсим страницу: 14\n",
      "Парсим страницу: 15\n",
      "Парсим страницу: 16\n",
      "Парсим страницу: 17\n",
      "Парсим страницу: 18\n",
      "Парсим страницу: 19\n",
      "Парсим страницу: 20\n",
      "Парсим страницу: 21\n",
      "Парсим страницу: 22\n",
      "Парсим страницу: 23\n",
      "Парсим страницу: 24\n"
     ]
    }
   ],
   "source": [
    "parser()"
   ]
  },
  {
   "cell_type": "code",
   "execution_count": null,
   "metadata": {},
   "outputs": [],
   "source": []
  }
 ]
}